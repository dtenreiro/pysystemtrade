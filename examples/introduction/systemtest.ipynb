{
 "cells": [
  {
   "cell_type": "code",
   "execution_count": 1,
   "metadata": {},
   "outputs": [],
   "source": [
    "import os \n",
    "# Now run the prebaked systems example\n",
    "os.chdir('c:\\\\Users\\\\Danie\\\\OneDrive\\\\Documents\\\\Coding\\\\pysystemtrade\\\\pysystemtrade\\\\examples\\\\introduction')"
   ]
  },
  {
   "cell_type": "code",
   "execution_count": 2,
   "metadata": {},
   "outputs": [],
   "source": [
    "import sys\n",
    "import os\n",
    "\n",
    "# Add the parent directory of pysystemtrade to the Python path\n",
    "sys.path.append(os.path.abspath(os.path.join(os.getcwd(), '..', '..')))"
   ]
  },
  {
   "cell_type": "code",
   "execution_count": null,
   "metadata": {},
   "outputs": [],
   "source": [
    "import logging\n",
    "\n",
    "# Set logging level to INFO to suppress DEBUG messages\n",
    "logging.getLogger().setLevel(logging.INFO)\n",
    "\n",
    "# Import systemtest\n",
    "from systems.systemtest import systemtest\n",
    "from sysdata.sim.csv_futures_sim_data import csvFuturesSimData\n",
    "\n",
    "# Initialize the data\n",
    "data = csvFuturesSimData()\n",
    "\n",
    "# Create and run the system with JPY instrument\n",
    "my_system = systemtest(instruments=[\"SOFR\", \"ES\", \"GC\"])\n",
    "print(my_system.portfolio.get_notional_position(\"JPY\").tail(5))\n"
   ]
  },
  {
   "cell_type": "code",
   "execution_count": null,
   "metadata": {},
   "outputs": [],
   "source": [
    "import logging\n",
    "\n",
    "# Set logging level to INFO to suppress DEBUG messages\n",
    "logging.getLogger().setLevel(logging.INFO)\n",
    "\n",
    "# Import systemtest\n",
    "from systems.systemtest import systemtest\n",
    "from sysdata.sim.csv_futures_sim_data import csvFuturesSimData\n",
    "\n",
    "# Initialize the data\n",
    "data = csvFuturesSimData()\n",
    "\n",
    "system = systemtest(instruments=[\"SOFR\", \"JPY\", \"MXD\"])\n",
    "results = analyze_strategies(instruments=[\"SOFR\", \"JPY\", \"MXD\"])"
   ]
  },
  {
   "cell_type": "code",
   "execution_count": null,
   "metadata": {},
   "outputs": [],
   "source": [
    "import logging\n",
    "\n",
    "# Set logging level to INFO to suppress DEBUG messages\n",
    "logging.getLogger().setLevel(logging.INFO)\n",
    "\n",
    "# First, import the correct system\n",
    "from systems.provided.example.simplesystem import simplesystem\n",
    "from sysdata.sim.csv_futures_sim_data import csvFuturesSimData\n",
    "from sysdata.config.configdata import Config\n",
    "\n",
    "# Initialize the data\n",
    "data = csvFuturesSimData()\n",
    "\n",
    "# Create config\n",
    "my_config = Config(\"systems.provided.example.simplesystemconfig.yaml\")\n",
    "\n",
    "# Create and run the system with both config and data\n",
    "my_system = simplesystem(config=my_config, data=data)\n",
    "# print(my_system.portfolio.get_notional_position(\"SOFR\").tail(5))\n",
    "print(my_system.portfolio.get_notional_position(\"JPY\").tail(5))"
   ]
  },
  {
   "cell_type": "code",
   "execution_count": null,
   "metadata": {},
   "outputs": [],
   "source": [
    "import logging\n",
    "\n",
    "# Set logging level to INFO to suppress DEBUG messages\n",
    "logging.getLogger().setLevel(logging.INFO)\n",
    "\n",
    "# First, import the correct system\n",
    "from systems.provided.example.simplesystem import simplesystem\n",
    "from sysdata.sim.csv_futures_sim_data import csvFuturesSimData\n",
    "from sysdata.config.configdata import Config\n",
    "\n",
    "# Initialize the data\n",
    "data = csvFuturesSimData()\n",
    "\n",
    "# Create config\n",
    "my_config = Config(\"systems.provided.example.simplesystemconfig.yaml\")\n",
    "\n",
    "# Create and run the system with both config and data\n",
    "my_system = simplesystem(config=my_config, data=data)\n",
    "print(my_system.portfolio.get_notional_position(\"SOFR\").tail(5))"
   ]
  },
  {
   "cell_type": "code",
   "execution_count": null,
   "metadata": {},
   "outputs": [],
   "source": [
    "# Import matplotlib\n",
    "import matplotlib.pyplot as plt\n",
    "\n",
    "# Plot the equity curve\n",
    "my_system.accounts.portfolio().curve().plot()\n",
    "plt.title('Test System Performance')\n",
    "plt.ylabel('Portfolio Value')\n",
    "plt.xlabel('Time')\n",
    "plt.show()"
   ]
  },
  {
   "cell_type": "code",
   "execution_count": null,
   "metadata": {},
   "outputs": [],
   "source": [
    "# Get account statistics for the chapter 15 system\n",
    "my_system.accounts.portfolio().percent.stats()"
   ]
  }
 ],
 "metadata": {
  "kernelspec": {
   "display_name": ".venv",
   "language": "python",
   "name": "python3"
  },
  "language_info": {
   "codemirror_mode": {
    "name": "ipython",
    "version": 3
   },
   "file_extension": ".py",
   "mimetype": "text/x-python",
   "name": "python",
   "nbconvert_exporter": "python",
   "pygments_lexer": "ipython3",
   "version": "3.13.2"
  }
 },
 "nbformat": 4,
 "nbformat_minor": 2
}
