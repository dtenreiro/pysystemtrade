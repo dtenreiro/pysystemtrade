{
 "cells": [
  {
   "cell_type": "code",
   "execution_count": 1,
   "metadata": {},
   "outputs": [],
   "source": [
    "import sys\n",
    "import os\n",
    "import warnings\n",
    "\n",
    "# Ignore all warnings\n",
    "warnings.filterwarnings('ignore')\n",
    "os.chdir('c:\\\\Users\\\\Danie\\\\OneDrive\\\\Documents\\\\Coding\\\\pysystemtrade\\\\pysystemtrade\\\\examples\\\\introduction')\n",
    "# Add the parent directory of pysystemtrade to the Python path\n",
    "sys.path.append(os.path.abspath(os.path.join(os.getcwd(), '..', '..')))"
   ]
  },
  {
   "cell_type": "code",
   "execution_count": 3,
   "metadata": {},
   "outputs": [],
   "source": [
    "# Filter the results to a specific date range\n",
    "start_date = '2002-01-02'\n",
    "end_date = '2019-12-31'"
   ]
  },
  {
   "cell_type": "code",
   "execution_count": 2,
   "metadata": {},
   "outputs": [
    {
     "name": "stdout",
     "output_type": "stream",
     "text": [
      "Configuring sim logging\n",
      "2025-02-24 18:55:11 DEBUG config {'type': 'config', 'stage': 'config'} Adding config defaults\n",
      "Private configuration private/private_config.yaml does not exist; no problem if running in sim mode\n"
     ]
    }
   ],
   "source": [
    "import logging\n",
    "\n",
    "# Set logging level to INFO to suppress DEBUG messages\n",
    "logging.getLogger().setLevel(logging.INFO)\n",
    "\n",
    "# Import systemtest\n",
    "from systems.dt.systemtest import systemtest\n",
    "from sysdata.sim.csv_futures_sim_data import csvFuturesSimData\n",
    "\n",
    "# Initialize the data\n",
    "data = csvFuturesSimData()\n",
    "\n",
    "# Create and run the system with gov instruments\n",
    "my_system = systemtest(\n",
    "    data=data\n",
    ")"
   ]
  },
  {
   "cell_type": "code",
   "execution_count": null,
   "metadata": {},
   "outputs": [],
   "source": [
    "# View portfolio performance\n",
    "print(my_system.accounts.portfolio().sharpe())\n",
    "\n",
    "# Look at positions for a specific instrument\n",
    "print(my_system.portfolio.get_notional_position(\"US10\").tail())\n",
    "\n",
    "# Plot cumulative returns\n",
    "my_system.accounts.portfolio().curve().plot()"
   ]
  },
  {
   "cell_type": "code",
   "execution_count": null,
   "metadata": {},
   "outputs": [],
   "source": [
    "print(\"Portfolio Sharpe Ratio:\", my_system.accounts.portfolio().sharpe())"
   ]
  },
  {
   "cell_type": "code",
   "execution_count": 3,
   "metadata": {},
   "outputs": [
    {
     "name": "stdout",
     "output_type": "stream",
     "text": [
      "2025-02-24 18:55:22 DEBUG base_system Following instruments are 'duplicate_markets' ['Another_thing', 'bad_thing'] \n",
      "2025-02-24 18:55:22 DEBUG base_system Following instruments are marked as 'ignore_instruments': not included: ['EXAMPLE']\n",
      "2025-02-24 18:55:22 DEBUG base_system Following instruments removed entirely from sim: ['Another_thing', 'EXAMPLE', 'bad_thing']\n",
      "2025-02-24 18:55:22 INFO base_system {'stage': 'accounts'} Calculating pandl for portfolio\n",
      "2025-02-24 18:55:22 DEBUG base_system {'stage': 'positionSize'} Getting vol target\n",
      "2025-02-24 18:55:22 DEBUG base_system {'stage': 'accounts', 'instrument_code': 'US10'} Calculating pandl for instrument for US10\n",
      "2025-02-24 18:55:22 DEBUG base_system {'stage': 'portfolio', 'instrument_code': 'US10'} Calculating notional position for US10\n",
      "2025-02-24 18:55:22 INFO base_system {'stage': 'portfolio', 'instrument_code': 'US10'} Calculating instrument weights\n",
      "2025-02-24 18:55:22 DEBUG base_system {'stage': 'portfolio', 'instrument_code': 'US10'} Calculating raw instrument weights\n",
      "2025-02-24 18:55:22 DEBUG base_system Following instruments are 'duplicate_markets' ['Another_thing', 'bad_thing'] \n",
      "2025-02-24 18:55:22 DEBUG base_system Following instruments are marked as 'ignore_instruments': not included: ['EXAMPLE']\n",
      "2025-02-24 18:55:22 DEBUG base_system Following instruments are marked as 'bad_markets':  ['BAD_EXAMPLE']\n",
      "2025-02-24 18:55:22 DEBUG base_system Following instruments have restricted trading:  ['RESTRICTED_EXAMPLE'] \n",
      "2025-02-24 18:55:22 DEBUG base_system Following instruments marked as not trading []\n",
      "2025-02-24 18:55:22 DEBUG base_system {'stage': 'positionSize', 'instrument_code': 'US10'} Calculating subsystem position for US10\n",
      "2025-02-24 18:55:22 DEBUG base_system {'stage': 'positionSize', 'instrument_code': 'US10'} Calculating volatility scalar for US10\n",
      "2025-02-24 18:55:22 DEBUG base_system {'stage': 'positionSize', 'instrument_code': 'US10'} Calculating instrument value vol for US10\n",
      "2025-02-24 18:55:22 DEBUG base_system {'stage': 'positionSize', 'instrument_code': 'US10'} Calculating instrument currency vol for US10\n",
      "2025-02-24 18:55:22 DEBUG base_system {'stage': 'rawdata', 'instrument_code': 'US10'} Calculating daily volatility for US10\n",
      "2025-02-24 18:55:22 DEBUG base_system {'stage': 'rawdata', 'instrument_code': 'US10'} Calculating daily prices for US10\n",
      "2025-02-24 18:55:23 DEBUG base_system {'stage': 'combForecast', 'instrument_code': 'US10'} Calculating combined forecast for US10\n",
      "2025-02-24 18:55:23 DEBUG base_system {'stage': 'forecastScaleCap', 'instrument_code': 'US10'} Calculating capped forecast for US10 carry\n",
      "2025-02-24 18:55:23 DEBUG base_system {'stage': 'rules', 'instrument_code': 'US10'} Calculating raw forecast US10 for carry\n",
      "2025-02-24 18:55:23 DEBUG base_system {'stage': 'forecastScaleCap', 'instrument_code': 'US10'} Calculating capped forecast for US10 ewmac32\n",
      "2025-02-24 18:55:23 DEBUG base_system {'stage': 'rules', 'instrument_code': 'US10'} Calculating raw forecast US10 for ewmac32\n",
      "2025-02-24 18:55:23 DEBUG base_system {'stage': 'forecastScaleCap', 'instrument_code': 'US10'} Calculating capped forecast for US10 ewmac8\n",
      "2025-02-24 18:55:23 DEBUG base_system {'stage': 'rules', 'instrument_code': 'US10'} Calculating raw forecast US10 for ewmac8\n",
      "2025-02-24 18:55:23 DEBUG base_system {'stage': 'combForecast', 'instrument_code': 'US10'} Calculating forecast weights for US10\n",
      "2025-02-24 18:55:23 DEBUG base_system {'stage': 'forecastScaleCap', 'instrument_code': 'US2'} Calculating capped forecast for US2 carry\n",
      "2025-02-24 18:55:23 DEBUG base_system {'stage': 'rules', 'instrument_code': 'US2'} Calculating raw forecast US2 for carry\n",
      "2025-02-24 18:55:24 DEBUG base_system {'stage': 'forecastScaleCap', 'instrument_code': 'US20'} Calculating capped forecast for US20 carry\n",
      "2025-02-24 18:55:24 DEBUG base_system {'stage': 'rules', 'instrument_code': 'US20'} Calculating raw forecast US20 for carry\n",
      "2025-02-24 18:55:24 DEBUG base_system {'stage': 'forecastScaleCap', 'instrument_code': 'US30'} Calculating capped forecast for US30 carry\n",
      "2025-02-24 18:55:24 DEBUG base_system {'stage': 'rules', 'instrument_code': 'US30'} Calculating raw forecast US30 for carry\n",
      "2025-02-24 18:55:24 DEBUG base_system {'stage': 'forecastScaleCap', 'instrument_code': 'US5'} Calculating capped forecast for US5 carry\n",
      "2025-02-24 18:55:24 DEBUG base_system {'stage': 'rules', 'instrument_code': 'US5'} Calculating raw forecast US5 for carry\n",
      "2025-02-24 18:55:24 DEBUG base_system {'stage': 'rawdata', 'instrument_code': 'US10'} Calculating daily prices for US10\n",
      "2025-02-24 18:55:24 DEBUG base_system {'stage': 'rawdata', 'instrument_code': 'US10'} Calculating daily prices for US10\n",
      "2025-02-24 18:55:25 DEBUG base_system {'stage': 'forecastScaleCap', 'instrument_code': 'US2'} Calculating capped forecast for US2 ewmac32\n",
      "2025-02-24 18:55:25 DEBUG base_system {'stage': 'rules', 'instrument_code': 'US2'} Calculating raw forecast US2 for ewmac32\n",
      "2025-02-24 18:55:25 DEBUG base_system {'stage': 'forecastScaleCap', 'instrument_code': 'US20'} Calculating capped forecast for US20 ewmac32\n",
      "2025-02-24 18:55:25 DEBUG base_system {'stage': 'rules', 'instrument_code': 'US20'} Calculating raw forecast US20 for ewmac32\n",
      "2025-02-24 18:55:25 DEBUG base_system {'stage': 'forecastScaleCap', 'instrument_code': 'US30'} Calculating capped forecast for US30 ewmac32\n",
      "2025-02-24 18:55:25 DEBUG base_system {'stage': 'rules', 'instrument_code': 'US30'} Calculating raw forecast US30 for ewmac32\n",
      "2025-02-24 18:55:25 DEBUG base_system {'stage': 'forecastScaleCap', 'instrument_code': 'US5'} Calculating capped forecast for US5 ewmac32\n",
      "2025-02-24 18:55:25 DEBUG base_system {'stage': 'rules', 'instrument_code': 'US5'} Calculating raw forecast US5 for ewmac32\n",
      "2025-02-24 18:55:26 DEBUG base_system {'stage': 'forecastScaleCap', 'instrument_code': 'US2'} Calculating capped forecast for US2 ewmac8\n",
      "2025-02-24 18:55:26 DEBUG base_system {'stage': 'rules', 'instrument_code': 'US2'} Calculating raw forecast US2 for ewmac8\n",
      "2025-02-24 18:55:26 DEBUG base_system {'stage': 'forecastScaleCap', 'instrument_code': 'US20'} Calculating capped forecast for US20 ewmac8\n",
      "2025-02-24 18:55:26 DEBUG base_system {'stage': 'rules', 'instrument_code': 'US20'} Calculating raw forecast US20 for ewmac8\n",
      "2025-02-24 18:55:26 DEBUG base_system {'stage': 'forecastScaleCap', 'instrument_code': 'US30'} Calculating capped forecast for US30 ewmac8\n",
      "2025-02-24 18:55:26 DEBUG base_system {'stage': 'rules', 'instrument_code': 'US30'} Calculating raw forecast US30 for ewmac8\n",
      "2025-02-24 18:55:27 DEBUG base_system {'stage': 'forecastScaleCap', 'instrument_code': 'US5'} Calculating capped forecast for US5 ewmac8\n",
      "2025-02-24 18:55:27 DEBUG base_system {'stage': 'rules', 'instrument_code': 'US5'} Calculating raw forecast US5 for ewmac8\n",
      "2025-02-24 18:55:27 DEBUG base_system {'stage': 'combForecast', 'instrument_code': 'US10'} Only this set of rules ['carry', 'ewmac32', 'ewmac8'] is cheap enough to trade for US10\n",
      "2025-02-24 18:55:27 DEBUG base_system {'stage': 'combForecast', 'instrument_code': 'US10'} Non-nested dict of forecast weights for US10 {'carry': 0.2, 'ewmac8': 0.35, 'ewmac32': 0.45}: weights the same for all instruments\n",
      "2025-02-24 18:55:27 DEBUG base_system {'stage': 'combForecast', 'instrument_code': 'US10'} Using fixed FDM multiplier of 1.100 for US10\n",
      "2025-02-24 18:55:27 DEBUG base_system {'stage': 'combForecast', 'instrument_code': 'US10'} No mapping applied for US10\n",
      "2025-02-24 18:55:27 DEBUG base_system {'stage': 'positionSize', 'instrument_code': 'US2'} Calculating subsystem position for US2\n",
      "2025-02-24 18:55:27 DEBUG base_system {'stage': 'positionSize', 'instrument_code': 'US2'} Calculating volatility scalar for US2\n",
      "2025-02-24 18:55:27 DEBUG base_system {'stage': 'positionSize', 'instrument_code': 'US2'} Calculating instrument value vol for US2\n",
      "2025-02-24 18:55:27 DEBUG base_system {'stage': 'positionSize', 'instrument_code': 'US2'} Calculating instrument currency vol for US2\n",
      "2025-02-24 18:55:27 DEBUG base_system {'stage': 'rawdata', 'instrument_code': 'US2'} Calculating daily volatility for US2\n",
      "2025-02-24 18:55:27 DEBUG base_system {'stage': 'rawdata', 'instrument_code': 'US2'} Calculating daily prices for US2\n",
      "2025-02-24 18:55:28 DEBUG base_system {'stage': 'combForecast', 'instrument_code': 'US2'} Calculating combined forecast for US2\n",
      "2025-02-24 18:55:28 DEBUG base_system {'stage': 'combForecast', 'instrument_code': 'US2'} Calculating forecast weights for US2\n",
      "2025-02-24 18:55:28 DEBUG base_system {'stage': 'rawdata', 'instrument_code': 'US2'} Calculating daily prices for US2\n",
      "2025-02-24 18:55:28 DEBUG base_system {'stage': 'rawdata', 'instrument_code': 'US2'} Calculating daily prices for US2\n",
      "2025-02-24 18:55:28 DEBUG base_system {'stage': 'combForecast', 'instrument_code': 'US2'} Only this set of rules ['carry', 'ewmac32', 'ewmac8'] is cheap enough to trade for US2\n",
      "2025-02-24 18:55:28 DEBUG base_system {'stage': 'combForecast', 'instrument_code': 'US2'} Non-nested dict of forecast weights for US2 {'carry': 0.2, 'ewmac8': 0.35, 'ewmac32': 0.45}: weights the same for all instruments\n",
      "2025-02-24 18:55:28 DEBUG base_system {'stage': 'combForecast', 'instrument_code': 'US2'} Using fixed FDM multiplier of 1.100 for US2\n",
      "2025-02-24 18:55:28 DEBUG base_system {'stage': 'combForecast', 'instrument_code': 'US2'} No mapping applied for US2\n",
      "2025-02-24 18:55:28 DEBUG base_system {'stage': 'positionSize', 'instrument_code': 'US20'} Calculating subsystem position for US20\n",
      "2025-02-24 18:55:28 DEBUG base_system {'stage': 'positionSize', 'instrument_code': 'US20'} Calculating volatility scalar for US20\n",
      "2025-02-24 18:55:28 DEBUG base_system {'stage': 'positionSize', 'instrument_code': 'US20'} Calculating instrument value vol for US20\n",
      "2025-02-24 18:55:28 DEBUG base_system {'stage': 'positionSize', 'instrument_code': 'US20'} Calculating instrument currency vol for US20\n",
      "2025-02-24 18:55:29 DEBUG base_system {'stage': 'rawdata', 'instrument_code': 'US20'} Calculating daily volatility for US20\n",
      "2025-02-24 18:55:29 DEBUG base_system {'stage': 'rawdata', 'instrument_code': 'US20'} Calculating daily prices for US20\n",
      "2025-02-24 18:55:29 DEBUG base_system {'stage': 'combForecast', 'instrument_code': 'US20'} Calculating combined forecast for US20\n",
      "2025-02-24 18:55:29 DEBUG base_system {'stage': 'combForecast', 'instrument_code': 'US20'} Calculating forecast weights for US20\n",
      "2025-02-24 18:55:29 DEBUG base_system {'stage': 'rawdata', 'instrument_code': 'US20'} Calculating daily prices for US20\n",
      "2025-02-24 18:55:29 DEBUG base_system {'stage': 'rawdata', 'instrument_code': 'US20'} Calculating daily prices for US20\n",
      "2025-02-24 18:55:29 DEBUG base_system {'stage': 'combForecast', 'instrument_code': 'US20'} Only this set of rules ['carry', 'ewmac32', 'ewmac8'] is cheap enough to trade for US20\n",
      "2025-02-24 18:55:29 DEBUG base_system {'stage': 'combForecast', 'instrument_code': 'US20'} Non-nested dict of forecast weights for US20 {'carry': 0.2, 'ewmac8': 0.35, 'ewmac32': 0.45}: weights the same for all instruments\n",
      "2025-02-24 18:55:29 DEBUG base_system {'stage': 'combForecast', 'instrument_code': 'US20'} Using fixed FDM multiplier of 1.100 for US20\n",
      "2025-02-24 18:55:29 DEBUG base_system {'stage': 'combForecast', 'instrument_code': 'US20'} No mapping applied for US20\n",
      "2025-02-24 18:55:29 DEBUG base_system {'stage': 'positionSize', 'instrument_code': 'US30'} Calculating subsystem position for US30\n",
      "2025-02-24 18:55:29 DEBUG base_system {'stage': 'positionSize', 'instrument_code': 'US30'} Calculating volatility scalar for US30\n",
      "2025-02-24 18:55:29 DEBUG base_system {'stage': 'positionSize', 'instrument_code': 'US30'} Calculating instrument value vol for US30\n",
      "2025-02-24 18:55:29 DEBUG base_system {'stage': 'positionSize', 'instrument_code': 'US30'} Calculating instrument currency vol for US30\n",
      "2025-02-24 18:55:30 DEBUG base_system {'stage': 'rawdata', 'instrument_code': 'US30'} Calculating daily volatility for US30\n",
      "2025-02-24 18:55:30 DEBUG base_system {'stage': 'rawdata', 'instrument_code': 'US30'} Calculating daily prices for US30\n",
      "2025-02-24 18:55:30 DEBUG base_system {'stage': 'combForecast', 'instrument_code': 'US30'} Calculating combined forecast for US30\n",
      "2025-02-24 18:55:30 DEBUG base_system {'stage': 'combForecast', 'instrument_code': 'US30'} Calculating forecast weights for US30\n",
      "2025-02-24 18:55:30 DEBUG base_system {'stage': 'rawdata', 'instrument_code': 'US30'} Calculating daily prices for US30\n",
      "2025-02-24 18:55:31 DEBUG base_system {'stage': 'rawdata', 'instrument_code': 'US30'} Calculating daily prices for US30\n",
      "2025-02-24 18:55:31 DEBUG base_system {'stage': 'combForecast', 'instrument_code': 'US30'} Only this set of rules ['carry', 'ewmac32', 'ewmac8'] is cheap enough to trade for US30\n",
      "2025-02-24 18:55:31 DEBUG base_system {'stage': 'combForecast', 'instrument_code': 'US30'} Non-nested dict of forecast weights for US30 {'carry': 0.2, 'ewmac8': 0.35, 'ewmac32': 0.45}: weights the same for all instruments\n",
      "2025-02-24 18:55:31 DEBUG base_system {'stage': 'combForecast', 'instrument_code': 'US30'} Using fixed FDM multiplier of 1.100 for US30\n",
      "2025-02-24 18:55:31 DEBUG base_system {'stage': 'combForecast', 'instrument_code': 'US30'} No mapping applied for US30\n",
      "2025-02-24 18:55:31 DEBUG base_system {'stage': 'positionSize', 'instrument_code': 'US5'} Calculating subsystem position for US5\n",
      "2025-02-24 18:55:31 DEBUG base_system {'stage': 'positionSize', 'instrument_code': 'US5'} Calculating volatility scalar for US5\n",
      "2025-02-24 18:55:31 DEBUG base_system {'stage': 'positionSize', 'instrument_code': 'US5'} Calculating instrument value vol for US5\n",
      "2025-02-24 18:55:31 DEBUG base_system {'stage': 'positionSize', 'instrument_code': 'US5'} Calculating instrument currency vol for US5\n",
      "2025-02-24 18:55:32 DEBUG base_system {'stage': 'rawdata', 'instrument_code': 'US5'} Calculating daily volatility for US5\n",
      "2025-02-24 18:55:32 DEBUG base_system {'stage': 'rawdata', 'instrument_code': 'US5'} Calculating daily prices for US5\n",
      "2025-02-24 18:55:32 DEBUG base_system {'stage': 'combForecast', 'instrument_code': 'US5'} Calculating combined forecast for US5\n",
      "2025-02-24 18:55:32 DEBUG base_system {'stage': 'combForecast', 'instrument_code': 'US5'} Calculating forecast weights for US5\n",
      "2025-02-24 18:55:32 DEBUG base_system {'stage': 'rawdata', 'instrument_code': 'US5'} Calculating daily prices for US5\n",
      "2025-02-24 18:55:32 DEBUG base_system {'stage': 'rawdata', 'instrument_code': 'US5'} Calculating daily prices for US5\n",
      "2025-02-24 18:55:32 DEBUG base_system {'stage': 'combForecast', 'instrument_code': 'US5'} Only this set of rules ['carry', 'ewmac32', 'ewmac8'] is cheap enough to trade for US5\n",
      "2025-02-24 18:55:32 DEBUG base_system {'stage': 'combForecast', 'instrument_code': 'US5'} Non-nested dict of forecast weights for US5 {'carry': 0.2, 'ewmac8': 0.35, 'ewmac32': 0.45}: weights the same for all instruments\n",
      "2025-02-24 18:55:32 DEBUG base_system {'stage': 'combForecast', 'instrument_code': 'US5'} Using fixed FDM multiplier of 1.100 for US5\n",
      "2025-02-24 18:55:32 DEBUG base_system {'stage': 'combForecast', 'instrument_code': 'US5'} No mapping applied for US5\n",
      "2025-02-24 18:55:32 DEBUG base_system {'stage': 'portfolio', 'instrument_code': 'US10'} Following instruments will have zero weight in optimisation of instrument weights as they have no positions (possibly too expensive?) []\n",
      "2025-02-24 18:55:32 INFO base_system {'stage': 'portfolio', 'instrument_code': 'US10'} Using fixed diversification multiplier 1.000000\n",
      "2025-02-24 18:55:32 DEBUG base_system {'stage': 'portfolio', 'instrument_code': 'US10'} No risk overlay in config: won't apply risk scaling\n",
      "2025-02-24 18:55:32 DEBUG base_system {'stage': 'portfolio', 'instrument_code': 'US10'} Calculating buffers for US10\n",
      "2025-02-24 18:55:32 DEBUG base_system {'stage': 'portfolio', 'instrument_code': 'US10'} Calculating forecast method buffers for US10\n",
      "2025-02-24 18:55:32 DEBUG base_system {'stage': 'accounts', 'instrument_code': 'US10'} Calculating buffered positions\n",
      "2025-02-24 18:55:32 DEBUG base_system {'stage': 'accounts', 'instrument_code': 'US10'} Calculating pandl for instrument for US10\n",
      "2025-02-24 18:55:32 DEBUG base_system {'stage': 'rawdata', 'instrument_code': 'US10'} Calculating daily prices for US10\n",
      "2025-02-24 18:55:33 DEBUG base_system {'stage': 'accounts', 'instrument_code': 'US2'} Calculating pandl for instrument for US2\n",
      "2025-02-24 18:55:33 DEBUG base_system {'stage': 'portfolio', 'instrument_code': 'US2'} Calculating notional position for US2\n",
      "2025-02-24 18:55:33 DEBUG base_system {'stage': 'portfolio', 'instrument_code': 'US2'} No risk overlay in config: won't apply risk scaling\n",
      "2025-02-24 18:55:33 DEBUG base_system {'stage': 'portfolio', 'instrument_code': 'US2'} Calculating buffers for US2\n",
      "2025-02-24 18:55:33 DEBUG base_system {'stage': 'portfolio', 'instrument_code': 'US2'} Calculating forecast method buffers for US2\n",
      "2025-02-24 18:55:33 DEBUG base_system {'stage': 'accounts', 'instrument_code': 'US2'} Calculating buffered positions\n",
      "2025-02-24 18:55:33 DEBUG base_system {'stage': 'accounts', 'instrument_code': 'US2'} Calculating pandl for instrument for US2\n",
      "2025-02-24 18:55:33 DEBUG base_system {'stage': 'rawdata', 'instrument_code': 'US2'} Calculating daily prices for US2\n",
      "2025-02-24 18:55:33 DEBUG base_system {'stage': 'accounts', 'instrument_code': 'US20'} Calculating pandl for instrument for US20\n",
      "2025-02-24 18:55:33 DEBUG base_system {'stage': 'portfolio', 'instrument_code': 'US20'} Calculating notional position for US20\n",
      "2025-02-24 18:55:33 DEBUG base_system {'stage': 'portfolio', 'instrument_code': 'US20'} No risk overlay in config: won't apply risk scaling\n",
      "2025-02-24 18:55:33 DEBUG base_system {'stage': 'portfolio', 'instrument_code': 'US20'} Calculating buffers for US20\n",
      "2025-02-24 18:55:33 DEBUG base_system {'stage': 'portfolio', 'instrument_code': 'US20'} Calculating forecast method buffers for US20\n",
      "2025-02-24 18:55:33 DEBUG base_system {'stage': 'accounts', 'instrument_code': 'US20'} Calculating buffered positions\n",
      "2025-02-24 18:55:33 DEBUG base_system {'stage': 'accounts', 'instrument_code': 'US20'} Calculating pandl for instrument for US20\n",
      "2025-02-24 18:55:33 DEBUG base_system {'stage': 'rawdata', 'instrument_code': 'US20'} Calculating daily prices for US20\n",
      "2025-02-24 18:55:34 DEBUG base_system {'stage': 'accounts', 'instrument_code': 'US30'} Calculating pandl for instrument for US30\n",
      "2025-02-24 18:55:34 DEBUG base_system {'stage': 'portfolio', 'instrument_code': 'US30'} Calculating notional position for US30\n",
      "2025-02-24 18:55:34 DEBUG base_system {'stage': 'portfolio', 'instrument_code': 'US30'} No risk overlay in config: won't apply risk scaling\n",
      "2025-02-24 18:55:34 DEBUG base_system {'stage': 'portfolio', 'instrument_code': 'US30'} Calculating buffers for US30\n",
      "2025-02-24 18:55:34 DEBUG base_system {'stage': 'portfolio', 'instrument_code': 'US30'} Calculating forecast method buffers for US30\n",
      "2025-02-24 18:55:34 DEBUG base_system {'stage': 'accounts', 'instrument_code': 'US30'} Calculating buffered positions\n",
      "2025-02-24 18:55:34 DEBUG base_system {'stage': 'accounts', 'instrument_code': 'US30'} Calculating pandl for instrument for US30\n",
      "2025-02-24 18:55:34 DEBUG base_system {'stage': 'rawdata', 'instrument_code': 'US30'} Calculating daily prices for US30\n",
      "2025-02-24 18:55:34 DEBUG base_system {'stage': 'accounts', 'instrument_code': 'US5'} Calculating pandl for instrument for US5\n",
      "2025-02-24 18:55:34 DEBUG base_system {'stage': 'portfolio', 'instrument_code': 'US5'} Calculating notional position for US5\n",
      "2025-02-24 18:55:34 DEBUG base_system {'stage': 'portfolio', 'instrument_code': 'US5'} No risk overlay in config: won't apply risk scaling\n",
      "2025-02-24 18:55:34 DEBUG base_system {'stage': 'portfolio', 'instrument_code': 'US5'} Calculating buffers for US5\n",
      "2025-02-24 18:55:34 DEBUG base_system {'stage': 'portfolio', 'instrument_code': 'US5'} Calculating forecast method buffers for US5\n",
      "2025-02-24 18:55:34 DEBUG base_system {'stage': 'accounts', 'instrument_code': 'US5'} Calculating buffered positions\n",
      "2025-02-24 18:55:34 DEBUG base_system {'stage': 'accounts', 'instrument_code': 'US5'} Calculating pandl for instrument for US5\n",
      "2025-02-24 18:55:34 DEBUG base_system {'stage': 'rawdata', 'instrument_code': 'US5'} Calculating daily prices for US5\n"
     ]
    }
   ],
   "source": [
    "portfolio = my_system.accounts.portfolio()"
   ]
  },
  {
   "cell_type": "code",
   "execution_count": 4,
   "metadata": {},
   "outputs": [
    {
     "data": {
      "text/plain": [
       "1978-05-31      0.000000\n",
       "1978-06-01      0.000000\n",
       "1978-06-02      0.000000\n",
       "1978-06-05      0.000000\n",
       "1978-06-06      0.000000\n",
       "                 ...    \n",
       "2024-03-22    235.160724\n",
       "2024-03-25    235.160724\n",
       "2024-03-26    235.160724\n",
       "2024-03-27    235.160724\n",
       "2024-03-28    235.160724\n",
       "Freq: B, Length: 11957, dtype: float64"
      ]
     },
     "execution_count": 4,
     "metadata": {},
     "output_type": "execute_result"
    }
   ],
   "source": [
    "portfolio.percent.stats()\n",
    "portfolio.percent.curve()\n"
   ]
  },
  {
   "cell_type": "code",
   "execution_count": 5,
   "metadata": {},
   "outputs": [
    {
     "data": {
      "text/plain": [
       "[[('min', '-6.281'),\n",
       "  ('max', '5.062'),\n",
       "  ('median', '0'),\n",
       "  ('mean', '0.01967'),\n",
       "  ('std', '0.564'),\n",
       "  ('skew', '-0.08079'),\n",
       "  ('ann_mean', '5.035'),\n",
       "  ('ann_std', '9.025'),\n",
       "  ('sharpe', '0.5579'),\n",
       "  ('sortino', '0.6072'),\n",
       "  ('avg_drawdown', '-10.76'),\n",
       "  ('time_in_drawdown', '0.9692'),\n",
       "  ('calmar', '0.1668'),\n",
       "  ('avg_return_to_drawdown', '0.4679'),\n",
       "  ('avg_loss', '-0.4347'),\n",
       "  ('avg_gain', '0.4623'),\n",
       "  ('gaintolossratio', '1.063'),\n",
       "  ('profitfactor', '1.138'),\n",
       "  ('hitrate', '0.517'),\n",
       "  ('t_stat', '3.813'),\n",
       "  ('p_value', '0.0001381')],\n",
       " ('You can also plot / print:',\n",
       "  ['rolling_ann_std', 'drawdown', 'curve', 'percent'])]"
      ]
     },
     "execution_count": 5,
     "metadata": {},
     "output_type": "execute_result"
    }
   ],
   "source": [
    "# Get account statistics for the chapter 15 system\n",
    "portfolio.percent.stats()"
   ]
  },
  {
   "cell_type": "code",
   "execution_count": null,
   "metadata": {},
   "outputs": [],
   "source": [
    "# Plot positions for each instrument\n",
    "\n",
    "import matplotlib.pyplot as plt\n",
    "import pandas as pd\n",
    "\n",
    "# Get all instruments\n",
    "instruments = my_system.get_instrument_list()\n",
    "\n",
    "# Create a figure with subplots\n",
    "fig, axes = plt.subplots(len(instruments), 1, figsize=(10, 3*len(instruments)), sharex=True)\n",
    "\n",
    "# Plot each instrument's position\n",
    "for i, instrument in enumerate(instruments):\n",
    "    position = my_system.portfolio.get_notional_position(instrument)\n",
    "    position.plot(ax=axes[i])\n",
    "    axes[i].set_title(f'Positions for {instrument}')\n",
    "    axes[i].set_ylabel('Position')\n",
    "\n",
    "# Set common x-label\n",
    "plt.xlabel('Time')\n",
    "plt.tight_layout()"
   ]
  }
 ],
 "metadata": {
  "kernelspec": {
   "display_name": ".venv",
   "language": "python",
   "name": "python3"
  },
  "language_info": {
   "codemirror_mode": {
    "name": "ipython",
    "version": 3
   },
   "file_extension": ".py",
   "mimetype": "text/x-python",
   "name": "python",
   "nbconvert_exporter": "python",
   "pygments_lexer": "ipython3",
   "version": "3.13.2"
  }
 },
 "nbformat": 4,
 "nbformat_minor": 2
}
