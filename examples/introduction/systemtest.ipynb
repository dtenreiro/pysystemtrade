{
 "cells": [
  {
   "cell_type": "code",
   "execution_count": 1,
   "metadata": {},
   "outputs": [],
   "source": [
    "import sys\n",
    "import os\n",
    "import warnings\n",
    "\n",
    "# Ignore all warnings\n",
    "warnings.filterwarnings('ignore')\n",
    "os.chdir('c:\\\\Users\\\\Danie\\\\OneDrive\\\\Documents\\\\Coding\\\\pysystemtrade\\\\pysystemtrade\\\\examples\\\\introduction')\n",
    "# Add the parent directory of pysystemtrade to the Python path\n",
    "sys.path.append(os.path.abspath(os.path.join(os.getcwd(), '..', '..')))"
   ]
  },
  {
   "cell_type": "code",
   "execution_count": 3,
   "metadata": {},
   "outputs": [],
   "source": [
    "# Filter the results to a specific date range\n",
    "start_date = '2002-01-02'\n",
    "end_date = '2019-12-31'"
   ]
  },
  {
   "cell_type": "code",
   "execution_count": null,
   "metadata": {},
   "outputs": [],
   "source": [
    "import logging\n",
    "\n",
    "# Set logging level to INFO to suppress DEBUG messages\n",
    "logging.getLogger().setLevel(logging.INFO)\n",
    "\n",
    "# Import systemtest\n",
    "from systems.dt.systemtest import systemtest\n",
    "from sysdata.sim.csv_futures_sim_data import csvFuturesSimData\n",
    "\n",
    "# Initialize the data\n",
    "data = csvFuturesSimData()\n",
    "\n",
    "# Create and run the system with gov instruments\n",
    "my_system = systemtest(\n",
    "    data=data\n",
    ")"
   ]
  },
  {
   "cell_type": "code",
   "execution_count": null,
   "metadata": {},
   "outputs": [],
   "source": [
    "# View portfolio performance\n",
    "print(my_system.accounts.portfolio().sharpe())\n",
    "\n",
    "# Look at positions for a specific instrument\n",
    "print(my_system.portfolio.get_notional_position(\"US10\").tail())\n",
    "\n",
    "# Plot cumulative returns\n",
    "my_system.accounts.portfolio().curve().plot()"
   ]
  },
  {
   "cell_type": "code",
   "execution_count": null,
   "metadata": {},
   "outputs": [],
   "source": [
    "portfolio = my_system.accounts.portfolio()"
   ]
  },
  {
   "cell_type": "code",
   "execution_count": null,
   "metadata": {},
   "outputs": [],
   "source": [
    "portfolio.percent.stats()\n",
    "portfolio.percent.curve()\n"
   ]
  },
  {
   "cell_type": "code",
   "execution_count": null,
   "metadata": {},
   "outputs": [],
   "source": [
    "# Get account statistics for the chapter 15 system\n",
    "portfolio.percent.stats()"
   ]
  },
  {
   "cell_type": "code",
   "execution_count": null,
   "metadata": {},
   "outputs": [],
   "source": [
    "# Plot positions for each instrument\n",
    "\n",
    "import matplotlib.pyplot as plt\n",
    "import pandas as pd\n",
    "\n",
    "# Get all instruments\n",
    "instruments = my_system.get_instrument_list()\n",
    "\n",
    "# Create a figure with subplots\n",
    "fig, axes = plt.subplots(len(instruments), 1, figsize=(10, 3*len(instruments)), sharex=True)\n",
    "\n",
    "# Plot each instrument's position\n",
    "for i, instrument in enumerate(instruments):\n",
    "    position = my_system.portfolio.get_notional_position(instrument)\n",
    "    position.plot(ax=axes[i])\n",
    "    axes[i].set_title(f'Positions for {instrument}')\n",
    "    axes[i].set_ylabel('Position')\n",
    "\n",
    "# Set common x-label\n",
    "plt.xlabel('Time')\n",
    "plt.tight_layout()"
   ]
  },
  {
   "cell_type": "code",
   "execution_count": null,
   "metadata": {},
   "outputs": [],
   "source": [
    "# Test with 100% carry strategy\n",
    "carry_system = systemtest(forecast_weights={\"carry\": 1.0, \"ewmac8\": 0.0, \"ewmac32\": 0.0})\n",
    "\n",
    "# Test with 100% trend following\n",
    "trend_system = systemtest(forecast_weights={\"carry\": 0.0, \"ewmac8\": 0.5, \"ewmac32\": 0.5})\n",
    "\n",
    "# Test with balanced weights\n",
    "balanced_system = systemtest(forecast_weights={\"carry\": 0.33, \"ewmac8\": 0.33, \"ewmac32\": 0.34})"
   ]
  },
  {
   "cell_type": "code",
   "execution_count": null,
   "metadata": {},
   "outputs": [],
   "source": [
    "# Print Sharpe ratios for each system\n",
    "print(\"Default System Portfolio Sharpe Ratio:\", my_system.accounts.portfolio().sharpe())\n",
    "print(\"Carry-only System Portfolio Sharpe Ratio:\", carry_system.accounts.portfolio().sharpe())\n",
    "print(\"Trend-only System Portfolio Sharpe Ratio:\", trend_system.accounts.portfolio().sharpe())\n",
    "print(\"Balanced System Portfolio Sharpe Ratio:\", balanced_system.accounts.portfolio().sharpe())"
   ]
  },
  {
   "cell_type": "code",
   "execution_count": null,
   "metadata": {},
   "outputs": [],
   "source": [
    "import logging\n",
    "import pandas as pd\n",
    "import numpy as np\n",
    "import matplotlib.pyplot as plt\n",
    "\n",
    "# Define weight combinations to test\n",
    "carry_weights = np.arange(0, 1.1, 0.2)\n",
    "ewmac8_weights = np.arange(0, 1.1, 0.2)\n",
    "\n",
    "# Store results\n",
    "results = []\n",
    "\n",
    "# Temporarily disable logging\n",
    "original_level = logging.getLogger().getEffectiveLevel()\n",
    "logging.getLogger().setLevel(logging.ERROR)\n",
    "\n",
    "# Iterate through different weight combinations\n",
    "for carry_weight in carry_weights:\n",
    "    for ewmac8_weight in ewmac8_weights:\n",
    "        # Make sure weights sum to 1\n",
    "        ewmac32_weight = 1.0 - carry_weight - ewmac8_weight\n",
    "        \n",
    "        # Skip invalid combinations (where weights would be negative)\n",
    "        if ewmac32_weight < 0:\n",
    "            continue\n",
    "            \n",
    "        # Round to avoid floating point issues\n",
    "        ewmac32_weight = round(ewmac32_weight, 2)\n",
    "        \n",
    "        # Create system with these weights\n",
    "        weights = {\n",
    "            \"carry\": carry_weight,\n",
    "            \"ewmac8\": ewmac8_weight,\n",
    "            \"ewmac32\": ewmac32_weight\n",
    "        }\n",
    "        \n",
    "        test_system = systemtest(forecast_weights=weights)\n",
    "        test_portfolio = test_system.accounts.portfolio()\n",
    "        sharpe = test_portfolio.sharpe()\n",
    "        \n",
    "        # Store results\n",
    "        results.append({\n",
    "            \"carry\": carry_weight,\n",
    "            \"ewmac8\": ewmac8_weight,\n",
    "            \"ewmac32\": ewmac32_weight,\n",
    "            \"sharpe\": sharpe\n",
    "        })\n",
    "\n",
    "# Restore original logging level\n",
    "logging.getLogger().setLevel(original_level)\n",
    "\n",
    "# Convert results to DataFrame\n",
    "results_df = pd.DataFrame(results)\n",
    "print(f\"Tested {len(results_df)} weight combinations\")\n",
    "\n",
    "# Find best combination\n",
    "best_result = results_df.loc[results_df['sharpe'].idxmax()]\n",
    "print(f\"Best weights: carry={best_result['carry']}, ewmac8={best_result['ewmac8']}, ewmac32={best_result['ewmac32']}\")\n",
    "print(f\"Best Sharpe: {best_result['sharpe']:.4f}\")\n",
    "\n",
    "# Create a system with the best weights for further analysis\n",
    "test_system = systemtest(forecast_weights={\n",
    "    \"carry\": best_result['carry'],\n",
    "    \"ewmac8\": best_result['ewmac8'],\n",
    "    \"ewmac32\": best_result['ewmac32']\n",
    "})\n",
    "test_portfolio = test_system.accounts.portfolio()"
   ]
  },
  {
   "cell_type": "code",
   "execution_count": null,
   "metadata": {},
   "outputs": [],
   "source": [
    "test_system = systemtest(forecast_weights={\"carry\": 0.2, \"ewmac8\": 0.6, \"ewmac32\": 0.2})\n"
   ]
  },
  {
   "cell_type": "code",
   "execution_count": 18,
   "metadata": {},
   "outputs": [],
   "source": [
    "import logging\n",
    "# Temporarily disable logging\n",
    "original_level = logging.getLogger().getEffectiveLevel()\n",
    "logging.getLogger().setLevel(logging.ERROR)\n",
    "\n",
    "test_portfolio = test_system.accounts.portfolio()\n",
    "\n",
    "# Restore original logging level\n",
    "logging.getLogger().setLevel(original_level)"
   ]
  },
  {
   "cell_type": "code",
   "execution_count": null,
   "metadata": {},
   "outputs": [],
   "source": [
    "test_portfolio.percent.stats()"
   ]
  },
  {
   "cell_type": "code",
   "execution_count": null,
   "metadata": {},
   "outputs": [],
   "source": [
    "# Display portfolio statistics\n",
    "print(\"Portfolio Statistics:\")\n",
    "print(f\"Sharpe Ratio: {test_portfolio.sharpe():.4f}\")\n",
    "print(f\"Annual Return: {test_portfolio.percent.ann_mean():.4f}\")\n",
    "print(f\"Annual Std Dev: {test_portfolio.percent.ann_std():.4f}\")\n",
    "\n",
    "\n",
    "\n",
    "# Display PnL\n",
    "print(\"\\nPortfolio PnL:\")\n",
    "pnl = test_portfolio.curve()\n",
    "print(pnl.tail())\n",
    "\n",
    "# Plot cumulative returns\n",
    "test_portfolio.curve().plot(figsize=(12, 6), title=\"Test System Cumulative Returns\")"
   ]
  },
  {
   "cell_type": "code",
   "execution_count": null,
   "metadata": {},
   "outputs": [],
   "source": [
    "# Display positions for each instrument through time\n",
    "import matplotlib.pyplot as plt\n",
    "\n",
    "# Get list of instruments in the system\n",
    "instruments = test_system.get_instrument_list()\n",
    "\n",
    "if instruments:\n",
    "    plt.figure(figsize=(12, 8))\n",
    "    \n",
    "    # Plot positions for each instrument\n",
    "    for instrument in instruments:\n",
    "        position = test_system.portfolio.get_notional_position(instrument_code=instrument)\n",
    "        if not position.empty:\n",
    "            position.plot(label=instrument)\n",
    "    \n",
    "    plt.title('Notional Positions Through Time')\n",
    "    plt.xlabel('Date')\n",
    "    plt.ylabel('Position Size')\n",
    "    plt.legend()\n",
    "    plt.grid(True, alpha=0.3)\n",
    "    plt.tight_layout()\n",
    "    plt.show()\n",
    "else:\n",
    "    print(\"No instruments found in the system\")"
   ]
  },
  {
   "cell_type": "code",
   "execution_count": null,
   "metadata": {},
   "outputs": [],
   "source": [
    "# Display positions for each instrument through time, split by decade\n",
    "import matplotlib.pyplot as plt\n",
    "import pandas as pd\n",
    "\n",
    "# Get list of instruments in the system\n",
    "instruments = test_system.get_instrument_list()\n",
    "\n",
    "if instruments:\n",
    "    # Get all positions\n",
    "    all_positions = {}\n",
    "    for instrument in instruments:\n",
    "        position = test_system.portfolio.get_notional_position(instrument_code=instrument)\n",
    "        if not position.empty:\n",
    "            all_positions[instrument] = position\n",
    "    \n",
    "    if all_positions:\n",
    "        # Get the full date range\n",
    "        all_dates = pd.concat([pos for pos in all_positions.values()]).index\n",
    "        min_date = all_dates.min()\n",
    "        max_date = all_dates.max()\n",
    "        \n",
    "        # Create decade boundaries\n",
    "        start_decade = (min_date.year // 10) * 10\n",
    "        end_decade = (max_date.year // 10 + 1) * 10\n",
    "        decades = [(start_decade + i*10, start_decade + (i+1)*10) for i in range((end_decade - start_decade) // 10)]\n",
    "        \n",
    "        # Plot each decade separately\n",
    "        for decade_start, decade_end in decades:\n",
    "            decade_start_date = pd.Timestamp(f\"{decade_start}-01-01\")\n",
    "            decade_end_date = pd.Timestamp(f\"{decade_end}-01-01\")\n",
    "            \n",
    "            # Filter data for this decade\n",
    "            decade_data = {}\n",
    "            for instrument, position in all_positions.items():\n",
    "                decade_position = position.loc[(position.index >= decade_start_date) & \n",
    "                                              (position.index < decade_end_date)]\n",
    "                if not decade_position.empty:\n",
    "                    decade_data[instrument] = decade_position\n",
    "            \n",
    "            if decade_data:\n",
    "                plt.figure(figsize=(12, 8))\n",
    "                for instrument, position in decade_data.items():\n",
    "                    position.plot(label=instrument)\n",
    "                \n",
    "                plt.title(f'Notional Positions {decade_start}-{decade_end}')\n",
    "                plt.xlabel('Date')\n",
    "                plt.ylabel('Position Size')\n",
    "                plt.legend()\n",
    "                plt.grid(True, alpha=0.3)\n",
    "                plt.tight_layout()\n",
    "                plt.show()\n",
    "    else:\n",
    "        print(\"No position data available for any instruments\")\n",
    "else:\n",
    "    print(\"No instruments found in the system\")"
   ]
  },
  {
   "cell_type": "code",
   "execution_count": null,
   "metadata": {},
   "outputs": [],
   "source": [
    "test_portfolio = test_system.accounts.portfolio()\n",
    "carry_portfolio = carry_system.accounts.portfolio()\n",
    "trend_portfolio = trend_system.accounts.portfolio()\n",
    "balanced_portfolio = balanced_system.accounts.portfolio()"
   ]
  },
  {
   "cell_type": "code",
   "execution_count": null,
   "metadata": {},
   "outputs": [],
   "source": [
    "# Print Sharpe ratios for each system\n",
    "print(\"Test System Portfolio Sharpe Ratio:\", test_portfolio.sharpe())\n",
    "print(\"Carry-only System Portfolio Sharpe Ratio:\", carry_portfolio.sharpe())\n",
    "print(\"Trend-only System Portfolio Sharpe Ratio:\", trend_portfolio.sharpe())\n",
    "print(\"Balanced System Portfolio Sharpe Ratio:\", balanced_portfolio.sharpe())"
   ]
  }
 ],
 "metadata": {
  "kernelspec": {
   "display_name": ".venv",
   "language": "python",
   "name": "python3"
  },
  "language_info": {
   "codemirror_mode": {
    "name": "ipython",
    "version": 3
   },
   "file_extension": ".py",
   "mimetype": "text/x-python",
   "name": "python",
   "nbconvert_exporter": "python",
   "pygments_lexer": "ipython3",
   "version": "3.13.2"
  }
 },
 "nbformat": 4,
 "nbformat_minor": 2
}
