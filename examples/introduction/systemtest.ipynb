{
 "cells": [
  {
   "cell_type": "code",
   "execution_count": 1,
   "metadata": {},
   "outputs": [],
   "source": [
    "import os \n",
    "# Now run the prebaked systems example\n",
    "os.chdir('c:\\\\Users\\\\Danie\\\\OneDrive\\\\Documents\\\\Coding\\\\pysystemtrade\\\\pysystemtrade\\\\examples\\\\introduction')"
   ]
  },
  {
   "cell_type": "code",
   "execution_count": 2,
   "metadata": {},
   "outputs": [],
   "source": [
    "import sys\n",
    "import os\n",
    "\n",
    "# Add the parent directory of pysystemtrade to the Python path\n",
    "sys.path.append(os.path.abspath(os.path.join(os.getcwd(), '..', '..')))"
   ]
  },
  {
   "cell_type": "code",
   "execution_count": 3,
   "metadata": {},
   "outputs": [
    {
     "name": "stdout",
     "output_type": "stream",
     "text": [
      "Configuring sim logging\n",
      "2025-02-12 03:21:42 DEBUG config {'type': 'config', 'stage': 'config'} Adding config defaults\n",
      "Private configuration private/private_config.yaml does not exist; no problem if running in sim mode\n",
      "2025-02-12 03:21:42 DEBUG base_system Following instruments are 'duplicate_markets' ['Another_thing', 'bad_thing'] \n",
      "2025-02-12 03:21:42 DEBUG base_system Following instruments are marked as 'ignore_instruments': not included: ['EXAMPLE']\n",
      "2025-02-12 03:21:42 DEBUG base_system Following instruments removed entirely from sim: ['Another_thing', 'EXAMPLE', 'bad_thing']\n",
      "2025-02-12 03:21:42 DEBUG base_system {'stage': 'portfolio', 'instrument_code': 'JPY'} Calculating notional position for JPY\n",
      "2025-02-12 03:21:42 INFO base_system {'stage': 'portfolio', 'instrument_code': 'JPY'} Calculating instrument weights\n",
      "2025-02-12 03:21:42 DEBUG base_system {'stage': 'portfolio', 'instrument_code': 'JPY'} Calculating raw instrument weights\n",
      "2025-02-12 03:21:42 DEBUG base_system Following instruments are 'duplicate_markets' ['Another_thing', 'bad_thing'] \n",
      "2025-02-12 03:21:42 DEBUG base_system Following instruments are marked as 'ignore_instruments': not included: ['EXAMPLE']\n",
      "2025-02-12 03:21:42 DEBUG base_system Following instruments are marked as 'bad_markets':  ['BAD_EXAMPLE']\n",
      "2025-02-12 03:21:42 DEBUG base_system Following instruments have restricted trading:  ['RESTRICTED_EXAMPLE'] \n",
      "2025-02-12 03:21:42 DEBUG base_system Following instruments marked as not trading []\n",
      "2025-02-12 03:21:42 DEBUG base_system {'stage': 'positionSize', 'instrument_code': 'JPY'} Calculating subsystem position for JPY\n",
      "2025-02-12 03:21:42 DEBUG base_system {'stage': 'positionSize', 'instrument_code': 'JPY'} Calculating volatility scalar for JPY\n",
      "2025-02-12 03:21:42 DEBUG base_system {'stage': 'positionSize', 'instrument_code': 'JPY'} Calculating instrument value vol for JPY\n",
      "2025-02-12 03:21:42 DEBUG base_system {'stage': 'positionSize', 'instrument_code': 'JPY'} Calculating instrument currency vol for JPY\n",
      "2025-02-12 03:21:42 DEBUG base_system {'stage': 'rawdata', 'instrument_code': 'JPY'} Calculating daily volatility for JPY\n",
      "2025-02-12 03:21:42 DEBUG base_system {'stage': 'rawdata', 'instrument_code': 'JPY'} Calculating daily prices for JPY\n",
      "2025-02-12 03:21:42 DEBUG base_system {'stage': 'combForecast', 'instrument_code': 'JPY'} Calculating combined forecast for JPY\n",
      "2025-02-12 03:21:42 DEBUG base_system {'stage': 'forecastScaleCap', 'instrument_code': 'JPY'} Calculating capped forecast for JPY carry\n",
      "2025-02-12 03:21:42 DEBUG base_system {'stage': 'rules', 'instrument_code': 'JPY'} Calculating raw forecast JPY for carry\n",
      "2025-02-12 03:21:43 DEBUG base_system {'stage': 'forecastScaleCap', 'instrument_code': 'JPY'} Calculating capped forecast for JPY ewmac\n",
      "2025-02-12 03:21:43 DEBUG base_system {'stage': 'rules', 'instrument_code': 'JPY'} Calculating raw forecast JPY for ewmac\n",
      "2025-02-12 03:21:43 DEBUG base_system {'stage': 'combForecast', 'instrument_code': 'JPY'} Calculating forecast weights for JPY\n",
      "2025-02-12 03:21:43 DEBUG base_system {'stage': 'rawdata', 'instrument_code': 'JPY'} Calculating daily prices for JPY\n",
      "2025-02-12 03:21:43 DEBUG base_system {'stage': 'rawdata', 'instrument_code': 'JPY'} Calculating daily prices for JPY\n",
      "2025-02-12 03:21:44 DEBUG base_system {'stage': 'combForecast', 'instrument_code': 'JPY'} Only this set of rules ['carry', 'ewmac'] is cheap enough to trade for JPY\n",
      "2025-02-12 03:21:44 DEBUG base_system {'stage': 'combForecast', 'instrument_code': 'JPY'} Non-nested dict of forecast weights for JPY {'ewmac': 0.5, 'carry': 0.5}: weights the same for all instruments\n",
      "2025-02-12 03:21:44 DEBUG base_system {'stage': 'combForecast', 'instrument_code': 'JPY'} Using fixed FDM multiplier of 1.100 for JPY\n",
      "2025-02-12 03:21:44 DEBUG base_system {'stage': 'combForecast', 'instrument_code': 'JPY'} No mapping applied for JPY\n",
      "2025-02-12 03:21:44 DEBUG base_system {'stage': 'portfolio', 'instrument_code': 'JPY'} Following instruments will have zero weight in optimisation of instrument weights as they have no positions (possibly too expensive?) []\n"
     ]
    },
    {
     "name": "stderr",
     "output_type": "stream",
     "text": [
      "c:\\Users\\Danie\\OneDrive\\Documents\\Coding\\pysystemtrade\\pysystemtrade\\syscore\\pandas\\frequency.py:218: FutureWarning: 'M' is deprecated and will be removed in a future version, please use 'ME' instead.\n",
      "  df_monthly_index = list(df.resample(\"1M\").last().index)  ## last day in month\n"
     ]
    },
    {
     "name": "stdout",
     "output_type": "stream",
     "text": [
      "2025-02-12 03:21:44 INFO base_system {'stage': 'portfolio', 'instrument_code': 'JPY'} Using fixed diversification multiplier 1.000000\n",
      "2025-02-12 03:21:44 DEBUG base_system {'stage': 'portfolio', 'instrument_code': 'JPY'} No risk overlay in config: won't apply risk scaling\n",
      "index\n",
      "2024-03-22   -0.734655\n",
      "2024-03-25   -0.782690\n",
      "2024-03-26   -0.832642\n",
      "2024-03-27   -0.875886\n",
      "2024-03-28   -0.927595\n",
      "Freq: B, dtype: float64\n"
     ]
    }
   ],
   "source": [
    "import logging\n",
    "\n",
    "# Set logging level to INFO to suppress DEBUG messages\n",
    "logging.getLogger().setLevel(logging.INFO)\n",
    "\n",
    "# Import systemtest\n",
    "from systems.systemtest import systemtest\n",
    "from sysdata.sim.csv_futures_sim_data import csvFuturesSimData\n",
    "\n",
    "# Initialize the data\n",
    "data = csvFuturesSimData()\n",
    "\n",
    "# Create and run the system with JPY instrument\n",
    "my_system = systemtest(data=data, instrument=\"JPY\")\n",
    "print(my_system.portfolio.get_notional_position(\"JPY\").tail(5))\n"
   ]
  },
  {
   "cell_type": "code",
   "execution_count": null,
   "metadata": {},
   "outputs": [],
   "source": [
    "import logging\n",
    "\n",
    "# Set logging level to INFO to suppress DEBUG messages\n",
    "logging.getLogger().setLevel(logging.INFO)\n",
    "\n",
    "# First, import the correct system\n",
    "from systems.provided.example.simplesystem import simplesystem\n",
    "from sysdata.sim.csv_futures_sim_data import csvFuturesSimData\n",
    "from sysdata.config.configdata import Config\n",
    "\n",
    "# Initialize the data\n",
    "data = csvFuturesSimData()\n",
    "\n",
    "# Create config\n",
    "my_config = Config(\"systems.provided.example.simplesystemconfig.yaml\")\n",
    "\n",
    "# Create and run the system with both config and data\n",
    "my_system = simplesystem(config=my_config, data=data)\n",
    "# print(my_system.portfolio.get_notional_position(\"SOFR\").tail(5))\n",
    "print(my_system.portfolio.get_notional_position(\"JPY\").tail(5))"
   ]
  },
  {
   "cell_type": "code",
   "execution_count": null,
   "metadata": {},
   "outputs": [],
   "source": [
    "# First, import the correct system\n",
    "from systems.provided.example.simplesystem import simplesystem\n",
    "from sysdata.sim.csv_futures_sim_data import csvFuturesSimData\n",
    "from sysdata.config.configdata import Config\n",
    "\n",
    "# Initialize the data\n",
    "data = csvFuturesSimData()\n",
    "\n",
    "# Create config\n",
    "my_config = Config(\"systems.provided.example.simplesystemconfig.yaml\")\n",
    "\n",
    "# Create and run the system with both config and data\n",
    "my_system = simplesystem(config=my_config, data=data)\n",
    "print(my_system.portfolio.get_notional_position(\"SOFR\").tail(5))"
   ]
  },
  {
   "cell_type": "code",
   "execution_count": 5,
   "metadata": {},
   "outputs": [
    {
     "data": {
      "image/png": "[encoded data removed]",
      "text/plain": [
       "<Figure size 640x480 with 1 Axes>"
      ]
     },
     "metadata": {},
     "output_type": "display_data"
    }
   ],
   "source": [
    "# Import matplotlib\n",
    "import matplotlib.pyplot as plt\n",
    "\n",
    "# Plot the equity curve\n",
    "my_system.accounts.portfolio().curve().plot()\n",
    "plt.title('Test System Performance')\n",
    "plt.ylabel('Portfolio Value')\n",
    "plt.xlabel('Time')\n",
    "plt.show()"
   ]
  },
  {
   "cell_type": "code",
   "execution_count": 4,
   "metadata": {},
   "outputs": [
    {
     "name": "stdout",
     "output_type": "stream",
     "text": [
      "2025-02-12 03:21:58 INFO base_system {'stage': 'accounts'} Calculating pandl for portfolio\n",
      "2025-02-12 03:21:58 DEBUG base_system {'stage': 'positionSize', 'instrument_code': 'JPY'} Getting vol target\n",
      "2025-02-12 03:21:58 DEBUG base_system {'stage': 'accounts', 'instrument_code': 'JPY'} Calculating pandl for instrument for JPY\n",
      "2025-02-12 03:21:58 DEBUG base_system {'stage': 'portfolio', 'instrument_code': 'JPY'} Calculating buffers for JPY\n",
      "2025-02-12 03:21:58 DEBUG base_system {'stage': 'portfolio', 'instrument_code': 'JPY'} Calculating forecast method buffers for JPY\n",
      "2025-02-12 03:21:58 DEBUG base_system {'stage': 'accounts', 'instrument_code': 'JPY'} Calculating buffered positions\n",
      "2025-02-12 03:21:58 DEBUG base_system {'stage': 'accounts', 'instrument_code': 'JPY'} Calculating pandl for instrument for JPY\n",
      "2025-02-12 03:21:58 DEBUG base_system {'stage': 'rawdata', 'instrument_code': 'JPY'} Calculating daily prices for JPY\n"
     ]
    },
    {
     "data": {
      "text/plain": [
       "[[('min', '-4.475'),\n",
       "  ('max', '4.588'),\n",
       "  ('median', '0'),\n",
       "  ('mean', '0.01087'),\n",
       "  ('std', '0.3627'),\n",
       "  ('skew', '-0.4196'),\n",
       "  ('ann_mean', '2.783'),\n",
       "  ('ann_std', '5.803'),\n",
       "  ('sharpe', '0.4796'),\n",
       "  ('sortino', '0.3757'),\n",
       "  ('avg_drawdown', '-6.317'),\n",
       "  ('time_in_drawdown', '0.963'),\n",
       "  ('calmar', '0.1847'),\n",
       "  ('avg_return_to_drawdown', '0.4406'),\n",
       "  ('avg_loss', '-0.4339'),\n",
       "  ('avg_gain', '0.4354'),\n",
       "  ('gaintolossratio', '1.003'),\n",
       "  ('profitfactor', '1.154'),\n",
       "  ('hitrate', '0.5349'),\n",
       "  ('t_stat', '3.312'),\n",
       "  ('p_value', '0.0009301')],\n",
       " ('You can also plot / print:',\n",
       "  ['rolling_ann_std', 'drawdown', 'curve', 'percent'])]"
      ]
     },
     "execution_count": 4,
     "metadata": {},
     "output_type": "execute_result"
    }
   ],
   "source": [
    "# Get account statistics for the chapter 15 system\n",
    "my_system.accounts.portfolio().percent.stats()"
   ]
  }
 ],
 "metadata": {
  "kernelspec": {
   "display_name": ".venv",
   "language": "python",
   "name": "python3"
  },
  "language_info": {
   "codemirror_mode": {
    "name": "ipython",
    "version": 3
   },
   "file_extension": ".py",
   "mimetype": "text/x-python",
   "name": "python",
   "nbconvert_exporter": "python",
   "pygments_lexer": "ipython3",
   "version": "3.13.2"
  }
 },
 "nbformat": 4,
 "nbformat_minor": 2
}
