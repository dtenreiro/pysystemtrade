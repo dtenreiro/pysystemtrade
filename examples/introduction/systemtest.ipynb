{
 "cells": [
  {
   "cell_type": "code",
   "execution_count": 1,
   "metadata": {},
   "outputs": [],
   "source": [
    "import os \n",
    "# Now run the prebaked systems example\n",
    "os.chdir('c:\\\\Users\\\\Danie\\\\OneDrive\\\\Documents\\\\Coding\\\\pysystemtrade\\\\pysystemtrade\\\\examples\\\\introduction')"
   ]
  },
  {
   "cell_type": "code",
   "execution_count": 2,
   "metadata": {},
   "outputs": [],
   "source": [
    "import sys\n",
    "import os\n",
    "\n",
    "# Add the parent directory of pysystemtrade to the Python path\n",
    "sys.path.append(os.path.abspath(os.path.join(os.getcwd(), '..', '..')))"
   ]
  },
  {
   "cell_type": "code",
   "execution_count": 6,
   "metadata": {},
   "outputs": [
    {
     "name": "stdout",
     "output_type": "stream",
     "text": [
      "Private configuration private/private_config.yaml does not exist; no problem if running in sim mode\n",
      "2025-02-12 04:07:36 INFO base_system {'stage': 'portfolio'} Calculating instrument weights\n"
     ]
    },
    {
     "name": "stderr",
     "output_type": "stream",
     "text": [
      "c:\\Users\\Danie\\OneDrive\\Documents\\Coding\\pysystemtrade\\pysystemtrade\\syscore\\pandas\\frequency.py:218: FutureWarning: 'M' is deprecated and will be removed in a future version, please use 'ME' instead.\n",
      "  df_monthly_index = list(df.resample(\"1M\").last().index)  ## last day in month\n",
      "c:\\Users\\Danie\\OneDrive\\Documents\\Coding\\pysystemtrade\\pysystemtrade\\syscore\\pandas\\frequency.py:218: FutureWarning: 'M' is deprecated and will be removed in a future version, please use 'ME' instead.\n",
      "  df_monthly_index = list(df.resample(\"1M\").last().index)  ## last day in month\n",
      "c:\\Users\\Danie\\OneDrive\\Documents\\Coding\\pysystemtrade\\pysystemtrade\\syscore\\pandas\\frequency.py:218: FutureWarning: 'M' is deprecated and will be removed in a future version, please use 'ME' instead.\n",
      "  df_monthly_index = list(df.resample(\"1M\").last().index)  ## last day in month\n",
      "c:\\Users\\Danie\\OneDrive\\Documents\\Coding\\pysystemtrade\\pysystemtrade\\syscore\\pandas\\frequency.py:218: FutureWarning: 'M' is deprecated and will be removed in a future version, please use 'ME' instead.\n",
      "  df_monthly_index = list(df.resample(\"1M\").last().index)  ## last day in month\n"
     ]
    },
    {
     "name": "stdout",
     "output_type": "stream",
     "text": [
      "2025-02-12 04:07:41 INFO base_system {'stage': 'portfolio'} Using fixed diversification multiplier 1.000000\n",
      "index\n",
      "2024-03-22    3.163242\n",
      "2024-03-25    3.197277\n",
      "2024-03-26    3.258848\n",
      "2024-03-27    3.294797\n",
      "2024-03-28    3.358118\n",
      "Freq: B, dtype: float64\n"
     ]
    },
    {
     "name": "stderr",
     "output_type": "stream",
     "text": [
      "c:\\Users\\Danie\\OneDrive\\Documents\\Coding\\pysystemtrade\\pysystemtrade\\syscore\\pandas\\frequency.py:218: FutureWarning: 'M' is deprecated and will be removed in a future version, please use 'ME' instead.\n",
      "  df_monthly_index = list(df.resample(\"1M\").last().index)  ## last day in month\n"
     ]
    }
   ],
   "source": [
    "import logging\n",
    "\n",
    "# Set logging level to INFO to suppress DEBUG messages\n",
    "logging.getLogger().setLevel(logging.INFO)\n",
    "\n",
    "# Import systemtest\n",
    "from systems.systemtest import systemtest\n",
    "from sysdata.sim.csv_futures_sim_data import csvFuturesSimData\n",
    "\n",
    "# Initialize the data\n",
    "data = csvFuturesSimData()\n",
    "\n",
    "# Create and run the system with JPY instrument\n",
    "my_system = systemtest(instruments=[\"SOFR\", \"EURIBOR\", \"FED\", \"US2\", \"BTP3\"])\n",
    "print(my_system.portfolio.get_notional_position(\"SOFR\").tail(5))\n"
   ]
  },
  {
   "cell_type": "code",
   "execution_count": 7,
   "metadata": {},
   "outputs": [
    {
     "name": "stdout",
     "output_type": "stream",
     "text": [
      "2025-02-12 04:07:43 INFO base_system {'stage': 'accounts'} Calculating pandl for portfolio\n"
     ]
    },
    {
     "data": {
      "text/plain": [
       "[[('min', '-15.85'),\n",
       "  ('max', '27.45'),\n",
       "  ('median', '0'),\n",
       "  ('mean', '0.06767'),\n",
       "  ('std', '2.087'),\n",
       "  ('skew', '0.4086'),\n",
       "  ('ann_mean', '17.32'),\n",
       "  ('ann_std', '33.39'),\n",
       "  ('sharpe', '0.5188'),\n",
       "  ('sortino', '0.7442'),\n",
       "  ('avg_drawdown', '-38.8'),\n",
       "  ('time_in_drawdown', '0.9399'),\n",
       "  ('calmar', '0.07523'),\n",
       "  ('avg_return_to_drawdown', '0.4466'),\n",
       "  ('avg_loss', '-1.466'),\n",
       "  ('avg_gain', '1.535'),\n",
       "  ('gaintolossratio', '1.047'),\n",
       "  ('profitfactor', '1.098'),\n",
       "  ('hitrate', '0.5118'),\n",
       "  ('t_stat', '3.313'),\n",
       "  ('p_value', '0.0009251')],\n",
       " ('You can also plot / print:',\n",
       "  ['rolling_ann_std', 'drawdown', 'curve', 'percent'])]"
      ]
     },
     "execution_count": 7,
     "metadata": {},
     "output_type": "execute_result"
    }
   ],
   "source": [
    "# Get account statistics for the chapter 15 system\n",
    "my_system.accounts.portfolio().percent.stats()"
   ]
  },
  {
   "cell_type": "code",
   "execution_count": null,
   "metadata": {},
   "outputs": [],
   "source": [
    "import logging\n",
    "\n",
    "# Set logging level to INFO to suppress DEBUG messages\n",
    "logging.getLogger().setLevel(logging.INFO)\n",
    "\n",
    "# Import systemtest\n",
    "from systems.systemtest import systemtest\n",
    "from sysdata.sim.csv_futures_sim_data import csvFuturesSimData\n",
    "\n",
    "# Initialize the data\n",
    "data = csvFuturesSimData()\n",
    "\n",
    "my_system = systemtest(instruments=[\"EUR\", \"JPY\", \"GBP\"])\n",
    "\n",
    "# Print positions for each instrument\n",
    "print(\"\\nSOFR positions:\")\n",
    "print(my_system.portfolio.get_notional_position(\"EUR\").tail(5))\n",
    "\n",
    "print(\"\\nJPY positions:\")\n",
    "print(my_system.portfolio.get_notional_position(\"JPY\").tail(5))\n",
    "\n",
    "print(\"\\nBRE positions:\")\n",
    "print(my_system.portfolio.get_notional_position(\"GBP\").tail(5))"
   ]
  },
  {
   "cell_type": "code",
   "execution_count": null,
   "metadata": {},
   "outputs": [],
   "source": [
    "import logging\n",
    "\n",
    "# Set logging level to INFO to suppress DEBUG messages\n",
    "logging.getLogger().setLevel(logging.INFO)\n",
    "\n",
    "# First, import the correct system\n",
    "from systems.provided.example.simplesystem import simplesystem\n",
    "from sysdata.sim.csv_futures_sim_data import csvFuturesSimData\n",
    "from sysdata.config.configdata import Config\n",
    "\n",
    "# Initialize the data\n",
    "data = csvFuturesSimData()\n",
    "\n",
    "# Create config\n",
    "my_config = Config(\"systems.provided.example.simplesystemconfig.yaml\")\n",
    "\n",
    "# Create and run the system with both config and data\n",
    "my_system = simplesystem(config=my_config, data=data)\n",
    "# print(my_system.portfolio.get_notional_position(\"SOFR\").tail(5))\n",
    "print(my_system.portfolio.get_notional_position(\"JPY\").tail(5))"
   ]
  },
  {
   "cell_type": "code",
   "execution_count": null,
   "metadata": {},
   "outputs": [],
   "source": [
    "import logging\n",
    "\n",
    "# Set logging level to INFO to suppress DEBUG messages\n",
    "logging.getLogger().setLevel(logging.INFO)\n",
    "\n",
    "# First, import the correct system\n",
    "from systems.provided.example.simplesystem import simplesystem\n",
    "from sysdata.sim.csv_futures_sim_data import csvFuturesSimData\n",
    "from sysdata.config.configdata import Config\n",
    "\n",
    "# Initialize the data\n",
    "data = csvFuturesSimData()\n",
    "\n",
    "# Create config\n",
    "my_config = Config(\"systems.provided.example.simplesystemconfig.yaml\")\n",
    "\n",
    "# Create and run the system with both config and data\n",
    "my_system = simplesystem(config=my_config, data=data)\n",
    "print(my_system.portfolio.get_notional_position(\"SOFR\").tail(5))"
   ]
  },
  {
   "cell_type": "code",
   "execution_count": null,
   "metadata": {},
   "outputs": [],
   "source": [
    "# Import matplotlib\n",
    "import matplotlib.pyplot as plt\n",
    "\n",
    "# Plot the equity curve\n",
    "my_system.accounts.portfolio().curve().plot()\n",
    "plt.title('Test System Performance')\n",
    "plt.ylabel('Portfolio Value')\n",
    "plt.xlabel('Time')\n",
    "plt.show()"
   ]
  },
  {
   "cell_type": "code",
   "execution_count": 5,
   "metadata": {},
   "outputs": [
    {
     "name": "stdout",
     "output_type": "stream",
     "text": [
      "2025-02-12 04:06:30 INFO base_system {'stage': 'accounts'} Calculating pandl for portfolio\n"
     ]
    },
    {
     "data": {
      "text/plain": [
       "[[('min', '-15.85'),\n",
       "  ('max', '33.18'),\n",
       "  ('median', '0'),\n",
       "  ('mean', '0.0553'),\n",
       "  ('std', '2.152'),\n",
       "  ('skew', '0.7419'),\n",
       "  ('ann_mean', '14.16'),\n",
       "  ('ann_std', '34.44'),\n",
       "  ('sharpe', '0.4111'),\n",
       "  ('sortino', '0.5991'),\n",
       "  ('avg_drawdown', '-47.82'),\n",
       "  ('time_in_drawdown', '0.9499'),\n",
       "  ('calmar', '0.05031'),\n",
       "  ('avg_return_to_drawdown', '0.2961'),\n",
       "  ('avg_loss', '-1.518'),\n",
       "  ('avg_gain', '1.574'),\n",
       "  ('gaintolossratio', '1.037'),\n",
       "  ('profitfactor', '1.077'),\n",
       "  ('hitrate', '0.5094'),\n",
       "  ('t_stat', '2.625'),\n",
       "  ('p_value', '0.008668')],\n",
       " ('You can also plot / print:',\n",
       "  ['rolling_ann_std', 'drawdown', 'curve', 'percent'])]"
      ]
     },
     "execution_count": 5,
     "metadata": {},
     "output_type": "execute_result"
    }
   ],
   "source": [
    "# Get account statistics for the chapter 15 system\n",
    "my_system.accounts.portfolio().percent.stats()"
   ]
  }
 ],
 "metadata": {
  "kernelspec": {
   "display_name": ".venv",
   "language": "python",
   "name": "python3"
  },
  "language_info": {
   "codemirror_mode": {
    "name": "ipython",
    "version": 3
   },
   "file_extension": ".py",
   "mimetype": "text/x-python",
   "name": "python",
   "nbconvert_exporter": "python",
   "pygments_lexer": "ipython3",
   "version": "3.13.2"
  }
 },
 "nbformat": 4,
 "nbformat_minor": 2
}
